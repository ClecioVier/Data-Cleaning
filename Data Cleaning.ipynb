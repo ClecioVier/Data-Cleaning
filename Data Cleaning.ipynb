{
 "cells": [
  {
   "cell_type": "markdown",
   "id": "77556495",
   "metadata": {},
   "source": [
    "# DATA CLEANING\n",
    "\n",
    "- Nesse trabalho será realizado a limpeza dos dados de um arquivo referente aos alunos de uma escola.\n",
    "- Os professores anotam as notas no mesmo arquivo, porém em abas diferentes, assim não houve padronização na inserção dos dados.\n",
    "    - Base de dados: [alunos.xlsx](https://docs.google.com/spreadsheets/d/1L6i7s0UAx4oHyBEIGNV4u9XB3E7ob2RY/edit?usp=sharing&ouid=113635235784384787412&rtpof=true&sd=true) \n",
    "    - Notas de português estão na aba `notas_port` e as de matemática na aba `notas_mat`"
   ]
  },
  {
   "cell_type": "markdown",
   "id": "78d9eb55",
   "metadata": {},
   "source": [
    "### Calculando a média obtida na disciplina de português"
   ]
  },
  {
   "cell_type": "code",
   "execution_count": 1,
   "id": "707a827e",
   "metadata": {},
   "outputs": [],
   "source": [
    "# Importando o pandas\n",
    "import pandas as pd"
   ]
  },
  {
   "cell_type": "code",
   "execution_count": 2,
   "id": "e849f805",
   "metadata": {},
   "outputs": [],
   "source": [
    "# Importando a base de notas de português\n",
    "port = pd.read_excel('alunos.xlsx', sheet_name = 'notas_port')"
   ]
  },
  {
   "cell_type": "code",
   "execution_count": 3,
   "id": "f0301925",
   "metadata": {},
   "outputs": [
    {
     "data": {
      "text/html": [
       "<div>\n",
       "<style scoped>\n",
       "    .dataframe tbody tr th:only-of-type {\n",
       "        vertical-align: middle;\n",
       "    }\n",
       "\n",
       "    .dataframe tbody tr th {\n",
       "        vertical-align: top;\n",
       "    }\n",
       "\n",
       "    .dataframe thead th {\n",
       "        text-align: right;\n",
       "    }\n",
       "</style>\n",
       "<table border=\"1\" class=\"dataframe\">\n",
       "  <thead>\n",
       "    <tr style=\"text-align: right;\">\n",
       "      <th></th>\n",
       "      <th>ID_aluno</th>\n",
       "      <th>Prova</th>\n",
       "      <th>Notas</th>\n",
       "    </tr>\n",
       "  </thead>\n",
       "  <tbody>\n",
       "    <tr>\n",
       "      <th>0</th>\n",
       "      <td>1</td>\n",
       "      <td>1</td>\n",
       "      <td>10</td>\n",
       "    </tr>\n",
       "    <tr>\n",
       "      <th>1</th>\n",
       "      <td>2</td>\n",
       "      <td>1</td>\n",
       "      <td>9</td>\n",
       "    </tr>\n",
       "    <tr>\n",
       "      <th>2</th>\n",
       "      <td>3</td>\n",
       "      <td>1</td>\n",
       "      <td>9</td>\n",
       "    </tr>\n",
       "    <tr>\n",
       "      <th>3</th>\n",
       "      <td>4</td>\n",
       "      <td>1</td>\n",
       "      <td>8</td>\n",
       "    </tr>\n",
       "    <tr>\n",
       "      <th>4</th>\n",
       "      <td>5</td>\n",
       "      <td>1</td>\n",
       "      <td>8</td>\n",
       "    </tr>\n",
       "  </tbody>\n",
       "</table>\n",
       "</div>"
      ],
      "text/plain": [
       "   ID_aluno  Prova  Notas\n",
       "0         1      1     10\n",
       "1         2      1      9\n",
       "2         3      1      9\n",
       "3         4      1      8\n",
       "4         5      1      8"
      ]
     },
     "execution_count": 3,
     "metadata": {},
     "output_type": "execute_result"
    }
   ],
   "source": [
    "# Visualizando a base\n",
    "port.head()"
   ]
  },
  {
   "cell_type": "code",
   "execution_count": 4,
   "id": "14873868",
   "metadata": {},
   "outputs": [
    {
     "data": {
      "text/html": [
       "<div>\n",
       "<style scoped>\n",
       "    .dataframe tbody tr th:only-of-type {\n",
       "        vertical-align: middle;\n",
       "    }\n",
       "\n",
       "    .dataframe tbody tr th {\n",
       "        vertical-align: top;\n",
       "    }\n",
       "\n",
       "    .dataframe thead th {\n",
       "        text-align: right;\n",
       "    }\n",
       "</style>\n",
       "<table border=\"1\" class=\"dataframe\">\n",
       "  <thead>\n",
       "    <tr style=\"text-align: right;\">\n",
       "      <th></th>\n",
       "      <th>ID_aluno</th>\n",
       "      <th>Prova</th>\n",
       "      <th>Notas</th>\n",
       "    </tr>\n",
       "  </thead>\n",
       "  <tbody>\n",
       "    <tr>\n",
       "      <th>count</th>\n",
       "      <td>48.000000</td>\n",
       "      <td>48.000000</td>\n",
       "      <td>48.000000</td>\n",
       "    </tr>\n",
       "    <tr>\n",
       "      <th>mean</th>\n",
       "      <td>7.916667</td>\n",
       "      <td>1.979167</td>\n",
       "      <td>8.541667</td>\n",
       "    </tr>\n",
       "    <tr>\n",
       "      <th>std</th>\n",
       "      <td>4.241805</td>\n",
       "      <td>0.837666</td>\n",
       "      <td>9.394336</td>\n",
       "    </tr>\n",
       "    <tr>\n",
       "      <th>min</th>\n",
       "      <td>1.000000</td>\n",
       "      <td>1.000000</td>\n",
       "      <td>2.000000</td>\n",
       "    </tr>\n",
       "    <tr>\n",
       "      <th>25%</th>\n",
       "      <td>4.750000</td>\n",
       "      <td>1.000000</td>\n",
       "      <td>5.000000</td>\n",
       "    </tr>\n",
       "    <tr>\n",
       "      <th>50%</th>\n",
       "      <td>7.500000</td>\n",
       "      <td>2.000000</td>\n",
       "      <td>8.000000</td>\n",
       "    </tr>\n",
       "    <tr>\n",
       "      <th>75%</th>\n",
       "      <td>11.250000</td>\n",
       "      <td>3.000000</td>\n",
       "      <td>9.000000</td>\n",
       "    </tr>\n",
       "    <tr>\n",
       "      <th>max</th>\n",
       "      <td>15.000000</td>\n",
       "      <td>3.000000</td>\n",
       "      <td>70.000000</td>\n",
       "    </tr>\n",
       "  </tbody>\n",
       "</table>\n",
       "</div>"
      ],
      "text/plain": [
       "        ID_aluno      Prova      Notas\n",
       "count  48.000000  48.000000  48.000000\n",
       "mean    7.916667   1.979167   8.541667\n",
       "std     4.241805   0.837666   9.394336\n",
       "min     1.000000   1.000000   2.000000\n",
       "25%     4.750000   1.000000   5.000000\n",
       "50%     7.500000   2.000000   8.000000\n",
       "75%    11.250000   3.000000   9.000000\n",
       "max    15.000000   3.000000  70.000000"
      ]
     },
     "execution_count": 4,
     "metadata": {},
     "output_type": "execute_result"
    }
   ],
   "source": [
    "# Gerando a descrição estatística\n",
    "port.describe()"
   ]
  },
  {
   "cell_type": "code",
   "execution_count": 5,
   "id": "7080ff8e",
   "metadata": {},
   "outputs": [
    {
     "name": "stdout",
     "output_type": "stream",
     "text": [
      "<class 'pandas.core.frame.DataFrame'>\n",
      "RangeIndex: 48 entries, 0 to 47\n",
      "Data columns (total 3 columns):\n",
      " #   Column    Non-Null Count  Dtype\n",
      "---  ------    --------------  -----\n",
      " 0   ID_aluno  48 non-null     int64\n",
      " 1   Prova     48 non-null     int64\n",
      " 2   Notas     48 non-null     int64\n",
      "dtypes: int64(3)\n",
      "memory usage: 1.2 KB\n"
     ]
    }
   ],
   "source": [
    "# Verificando as informações\n",
    "port.info()"
   ]
  },
  {
   "cell_type": "code",
   "execution_count": 7,
   "id": "5b5268a5",
   "metadata": {},
   "outputs": [
    {
     "data": {
      "text/plain": [
       "ID_aluno    15\n",
       "Prova        3\n",
       "Notas       10\n",
       "dtype: int64"
      ]
     },
     "execution_count": 7,
     "metadata": {},
     "output_type": "execute_result"
    }
   ],
   "source": [
    "# E a cardinalidade\n",
    "port.nunique()"
   ]
  },
  {
   "cell_type": "markdown",
   "id": "3c1f7344",
   "metadata": {},
   "source": [
    "**Verificando a duplicidade de registros**"
   ]
  },
  {
   "cell_type": "code",
   "execution_count": 9,
   "id": "0d1db589",
   "metadata": {},
   "outputs": [
    {
     "data": {
      "text/plain": [
       "15"
      ]
     },
     "execution_count": 9,
     "metadata": {},
     "output_type": "execute_result"
    }
   ],
   "source": [
    "# Verificando o número de alunos que temos na base\n",
    "port.ID_aluno.nunique()"
   ]
  },
  {
   "cell_type": "code",
   "execution_count": 10,
   "id": "06f567d6",
   "metadata": {},
   "outputs": [
    {
     "data": {
      "text/plain": [
       "1    17\n",
       "3    16\n",
       "2    15\n",
       "Name: Prova, dtype: int64"
      ]
     },
     "execution_count": 10,
     "metadata": {},
     "output_type": "execute_result"
    }
   ],
   "source": [
    "# E quantos alunos fizeram cada uma das provas\n",
    "port.Prova.value_counts()"
   ]
  },
  {
   "cell_type": "code",
   "execution_count": 13,
   "id": "160b592d",
   "metadata": {},
   "outputs": [
    {
     "data": {
      "text/plain": [
       "ID_aluno  Prova\n",
       "7         1        3\n",
       "6         3        2\n",
       "1         1        1\n",
       "12        1        1\n",
       "9         3        1\n",
       "dtype: int64"
      ]
     },
     "execution_count": 13,
     "metadata": {},
     "output_type": "execute_result"
    }
   ],
   "source": [
    "# Podemos usar o value_counts considerando essas duas colunas para verificar os valores duplicados\n",
    "port[['ID_aluno', 'Prova']].value_counts().head()"
   ]
  },
  {
   "cell_type": "code",
   "execution_count": 15,
   "id": "92c9bb86",
   "metadata": {},
   "outputs": [
    {
     "data": {
      "text/html": [
       "<div>\n",
       "<style scoped>\n",
       "    .dataframe tbody tr th:only-of-type {\n",
       "        vertical-align: middle;\n",
       "    }\n",
       "\n",
       "    .dataframe tbody tr th {\n",
       "        vertical-align: top;\n",
       "    }\n",
       "\n",
       "    .dataframe thead th {\n",
       "        text-align: right;\n",
       "    }\n",
       "</style>\n",
       "<table border=\"1\" class=\"dataframe\">\n",
       "  <thead>\n",
       "    <tr style=\"text-align: right;\">\n",
       "      <th></th>\n",
       "      <th>ID_aluno</th>\n",
       "      <th>Prova</th>\n",
       "      <th>Notas</th>\n",
       "    </tr>\n",
       "  </thead>\n",
       "  <tbody>\n",
       "    <tr>\n",
       "      <th>6</th>\n",
       "      <td>7</td>\n",
       "      <td>1</td>\n",
       "      <td>10</td>\n",
       "    </tr>\n",
       "    <tr>\n",
       "      <th>7</th>\n",
       "      <td>7</td>\n",
       "      <td>1</td>\n",
       "      <td>10</td>\n",
       "    </tr>\n",
       "    <tr>\n",
       "      <th>8</th>\n",
       "      <td>7</td>\n",
       "      <td>1</td>\n",
       "      <td>10</td>\n",
       "    </tr>\n",
       "    <tr>\n",
       "      <th>23</th>\n",
       "      <td>7</td>\n",
       "      <td>2</td>\n",
       "      <td>4</td>\n",
       "    </tr>\n",
       "    <tr>\n",
       "      <th>39</th>\n",
       "      <td>7</td>\n",
       "      <td>3</td>\n",
       "      <td>3</td>\n",
       "    </tr>\n",
       "  </tbody>\n",
       "</table>\n",
       "</div>"
      ],
      "text/plain": [
       "    ID_aluno  Prova  Notas\n",
       "6          7      1     10\n",
       "7          7      1     10\n",
       "8          7      1     10\n",
       "23         7      2      4\n",
       "39         7      3      3"
      ]
     },
     "execution_count": 15,
     "metadata": {},
     "output_type": "execute_result"
    }
   ],
   "source": [
    "# Filtrando o primeiro aluno dos registros\n",
    "port[port.ID_aluno == 7]\n",
    "port[port.ID_aluno == 7]"
   ]
  },
  {
   "cell_type": "code",
   "execution_count": 17,
   "id": "172b3ea1",
   "metadata": {},
   "outputs": [
    {
     "data": {
      "text/plain": [
       "7.4"
      ]
     },
     "execution_count": 17,
     "metadata": {},
     "output_type": "execute_result"
    }
   ],
   "source": [
    "# Verificando a média da nota do aluno de ID = 7\n",
    "port.loc[port.ID_aluno == 7, 'Notas'].mean()"
   ]
  },
  {
   "cell_type": "code",
   "execution_count": 18,
   "id": "b1e80bd0",
   "metadata": {},
   "outputs": [],
   "source": [
    "# Utilizando o drop_duplicates para retirar os valores repetidos\n",
    "port = port.drop_duplicates()"
   ]
  },
  {
   "cell_type": "code",
   "execution_count": 19,
   "id": "933b89ac",
   "metadata": {},
   "outputs": [
    {
     "data": {
      "text/plain": [
       "5.666666666666667"
      ]
     },
     "execution_count": 19,
     "metadata": {},
     "output_type": "execute_result"
    }
   ],
   "source": [
    "# Verificando novamente a média da nota desse aluno\n",
    "port.loc[port.ID_aluno == 7, 'Notas'].mean()"
   ]
  },
  {
   "cell_type": "markdown",
   "id": "49a5ffd2",
   "metadata": {},
   "source": [
    "**Realizando o tratamento de outliers**"
   ]
  },
  {
   "cell_type": "code",
   "execution_count": 21,
   "id": "c8a2b45c",
   "metadata": {},
   "outputs": [
    {
     "data": {
      "image/png": "[encoded data removed]",
      "text/plain": [
       "<Figure size 640x480 with 1 Axes>"
      ]
     },
     "metadata": {},
     "output_type": "display_data"
    }
   ],
   "source": [
    "# Verificando o outlier da coluna nota\n",
    "port.Notas.plot.box();"
   ]
  },
  {
   "cell_type": "code",
   "execution_count": 27,
   "id": "5e5b7ba2",
   "metadata": {},
   "outputs": [
    {
     "name": "stderr",
     "output_type": "stream",
     "text": [
      "/var/folders/nf/6h56zcxs5jl0v4f_shyzqjh80000gp/T/ipykernel_1410/1501814937.py:2: SettingWithCopyWarning: \n",
      "A value is trying to be set on a copy of a slice from a DataFrame\n",
      "\n",
      "See the caveats in the documentation: https://pandas.pydata.org/pandas-docs/stable/user_guide/indexing.html#returning-a-view-versus-a-copy\n",
      "  port.loc[port.Notas == 70,'Notas'] = 7\n"
     ]
    }
   ],
   "source": [
    "# Tratando esse valor\n",
    "port.loc[port.Notas == 70,'Notas'] = 7\n"
   ]
  },
  {
   "cell_type": "code",
   "execution_count": 28,
   "id": "81101356",
   "metadata": {},
   "outputs": [
    {
     "data": {
      "text/html": [
       "<div>\n",
       "<style scoped>\n",
       "    .dataframe tbody tr th:only-of-type {\n",
       "        vertical-align: middle;\n",
       "    }\n",
       "\n",
       "    .dataframe tbody tr th {\n",
       "        vertical-align: top;\n",
       "    }\n",
       "\n",
       "    .dataframe thead th {\n",
       "        text-align: right;\n",
       "    }\n",
       "</style>\n",
       "<table border=\"1\" class=\"dataframe\">\n",
       "  <thead>\n",
       "    <tr style=\"text-align: right;\">\n",
       "      <th></th>\n",
       "      <th>ID_aluno</th>\n",
       "      <th>Prova</th>\n",
       "      <th>Notas</th>\n",
       "    </tr>\n",
       "  </thead>\n",
       "  <tbody>\n",
       "    <tr>\n",
       "      <th>count</th>\n",
       "      <td>45.000000</td>\n",
       "      <td>45.000000</td>\n",
       "      <td>45.000000</td>\n",
       "    </tr>\n",
       "    <tr>\n",
       "      <th>mean</th>\n",
       "      <td>8.000000</td>\n",
       "      <td>2.000000</td>\n",
       "      <td>7.222222</td>\n",
       "    </tr>\n",
       "    <tr>\n",
       "      <th>std</th>\n",
       "      <td>4.369314</td>\n",
       "      <td>0.825723</td>\n",
       "      <td>2.373039</td>\n",
       "    </tr>\n",
       "    <tr>\n",
       "      <th>min</th>\n",
       "      <td>1.000000</td>\n",
       "      <td>1.000000</td>\n",
       "      <td>2.000000</td>\n",
       "    </tr>\n",
       "    <tr>\n",
       "      <th>25%</th>\n",
       "      <td>4.000000</td>\n",
       "      <td>1.000000</td>\n",
       "      <td>5.000000</td>\n",
       "    </tr>\n",
       "    <tr>\n",
       "      <th>50%</th>\n",
       "      <td>8.000000</td>\n",
       "      <td>2.000000</td>\n",
       "      <td>8.000000</td>\n",
       "    </tr>\n",
       "    <tr>\n",
       "      <th>75%</th>\n",
       "      <td>12.000000</td>\n",
       "      <td>3.000000</td>\n",
       "      <td>9.000000</td>\n",
       "    </tr>\n",
       "    <tr>\n",
       "      <th>max</th>\n",
       "      <td>15.000000</td>\n",
       "      <td>3.000000</td>\n",
       "      <td>10.000000</td>\n",
       "    </tr>\n",
       "  </tbody>\n",
       "</table>\n",
       "</div>"
      ],
      "text/plain": [
       "        ID_aluno      Prova      Notas\n",
       "count  45.000000  45.000000  45.000000\n",
       "mean    8.000000   2.000000   7.222222\n",
       "std     4.369314   0.825723   2.373039\n",
       "min     1.000000   1.000000   2.000000\n",
       "25%     4.000000   1.000000   5.000000\n",
       "50%     8.000000   2.000000   8.000000\n",
       "75%    12.000000   3.000000   9.000000\n",
       "max    15.000000   3.000000  10.000000"
      ]
     },
     "execution_count": 28,
     "metadata": {},
     "output_type": "execute_result"
    }
   ],
   "source": [
    "# Verificando novamente o describe\n",
    "port.describe()"
   ]
  },
  {
   "cell_type": "code",
   "execution_count": 29,
   "id": "1b68d449",
   "metadata": {},
   "outputs": [
    {
     "data": {
      "image/png": "[encoded data removed]",
      "text/plain": [
       "<Figure size 640x480 with 1 Axes>"
      ]
     },
     "metadata": {},
     "output_type": "display_data"
    }
   ],
   "source": [
    "port.Notas.plot.box();"
   ]
  },
  {
   "cell_type": "markdown",
   "id": "df86bc24",
   "metadata": {},
   "source": [
    "**E então, calculando a média dos alunos**"
   ]
  },
  {
   "cell_type": "code",
   "execution_count": 33,
   "id": "56890716",
   "metadata": {},
   "outputs": [],
   "source": [
    "# Fazendo a média por aluno\n",
    "media_port = port.groupby('ID_aluno')['Notas'].mean()"
   ]
  },
  {
   "cell_type": "code",
   "execution_count": 36,
   "id": "9d0b770b",
   "metadata": {},
   "outputs": [
    {
     "data": {
      "text/plain": [
       "ID_aluno\n",
       "1     9.000000\n",
       "2     8.000000\n",
       "3     8.666667\n",
       "4     8.000000\n",
       "5     5.666667\n",
       "6     7.333333\n",
       "7     5.666667\n",
       "8     7.666667\n",
       "9     8.000000\n",
       "10    6.666667\n",
       "11    8.666667\n",
       "12    6.000000\n",
       "13    4.333333\n",
       "14    6.666667\n",
       "15    8.000000\n",
       "Name: Notas, dtype: float64"
      ]
     },
     "execution_count": 36,
     "metadata": {},
     "output_type": "execute_result"
    }
   ],
   "source": [
    "media_port"
   ]
  },
  {
   "cell_type": "markdown",
   "id": "21e1fc15",
   "metadata": {},
   "source": [
    "### Calculando a média obtida na disciplina de matemática"
   ]
  },
  {
   "cell_type": "code",
   "execution_count": 83,
   "id": "72226dc2",
   "metadata": {},
   "outputs": [],
   "source": [
    "# Importando a base\n",
    "mat = pd.read_excel('alunos.xlsx', sheet_name = 'notas_mat')"
   ]
  },
  {
   "cell_type": "code",
   "execution_count": 84,
   "id": "fb32a0ee",
   "metadata": {},
   "outputs": [
    {
     "data": {
      "text/html": [
       "<div>\n",
       "<style scoped>\n",
       "    .dataframe tbody tr th:only-of-type {\n",
       "        vertical-align: middle;\n",
       "    }\n",
       "\n",
       "    .dataframe tbody tr th {\n",
       "        vertical-align: top;\n",
       "    }\n",
       "\n",
       "    .dataframe thead th {\n",
       "        text-align: right;\n",
       "    }\n",
       "</style>\n",
       "<table border=\"1\" class=\"dataframe\">\n",
       "  <thead>\n",
       "    <tr style=\"text-align: right;\">\n",
       "      <th></th>\n",
       "      <th>ID_aluno</th>\n",
       "      <th>Prova</th>\n",
       "      <th>Notas</th>\n",
       "    </tr>\n",
       "  </thead>\n",
       "  <tbody>\n",
       "    <tr>\n",
       "      <th>0</th>\n",
       "      <td>1</td>\n",
       "      <td>1</td>\n",
       "      <td>B-</td>\n",
       "    </tr>\n",
       "    <tr>\n",
       "      <th>1</th>\n",
       "      <td>2</td>\n",
       "      <td>1</td>\n",
       "      <td>A</td>\n",
       "    </tr>\n",
       "    <tr>\n",
       "      <th>2</th>\n",
       "      <td>3</td>\n",
       "      <td>1</td>\n",
       "      <td>B</td>\n",
       "    </tr>\n",
       "  </tbody>\n",
       "</table>\n",
       "</div>"
      ],
      "text/plain": [
       "   ID_aluno  Prova Notas\n",
       "0         1      1    B-\n",
       "1         2      1     A\n",
       "2         3      1     B"
      ]
     },
     "execution_count": 84,
     "metadata": {},
     "output_type": "execute_result"
    }
   ],
   "source": [
    "# head\n",
    "mat.head(3)"
   ]
  },
  {
   "cell_type": "code",
   "execution_count": 85,
   "id": "c3312ef2",
   "metadata": {},
   "outputs": [
    {
     "data": {
      "text/html": [
       "<div>\n",
       "<style scoped>\n",
       "    .dataframe tbody tr th:only-of-type {\n",
       "        vertical-align: middle;\n",
       "    }\n",
       "\n",
       "    .dataframe tbody tr th {\n",
       "        vertical-align: top;\n",
       "    }\n",
       "\n",
       "    .dataframe thead th {\n",
       "        text-align: right;\n",
       "    }\n",
       "</style>\n",
       "<table border=\"1\" class=\"dataframe\">\n",
       "  <thead>\n",
       "    <tr style=\"text-align: right;\">\n",
       "      <th></th>\n",
       "      <th>ID_aluno</th>\n",
       "      <th>Prova</th>\n",
       "    </tr>\n",
       "  </thead>\n",
       "  <tbody>\n",
       "    <tr>\n",
       "      <th>count</th>\n",
       "      <td>45.000000</td>\n",
       "      <td>45.000000</td>\n",
       "    </tr>\n",
       "    <tr>\n",
       "      <th>mean</th>\n",
       "      <td>8.000000</td>\n",
       "      <td>2.000000</td>\n",
       "    </tr>\n",
       "    <tr>\n",
       "      <th>std</th>\n",
       "      <td>4.369314</td>\n",
       "      <td>0.825723</td>\n",
       "    </tr>\n",
       "    <tr>\n",
       "      <th>min</th>\n",
       "      <td>1.000000</td>\n",
       "      <td>1.000000</td>\n",
       "    </tr>\n",
       "    <tr>\n",
       "      <th>25%</th>\n",
       "      <td>4.000000</td>\n",
       "      <td>1.000000</td>\n",
       "    </tr>\n",
       "    <tr>\n",
       "      <th>50%</th>\n",
       "      <td>8.000000</td>\n",
       "      <td>2.000000</td>\n",
       "    </tr>\n",
       "    <tr>\n",
       "      <th>75%</th>\n",
       "      <td>12.000000</td>\n",
       "      <td>3.000000</td>\n",
       "    </tr>\n",
       "    <tr>\n",
       "      <th>max</th>\n",
       "      <td>15.000000</td>\n",
       "      <td>3.000000</td>\n",
       "    </tr>\n",
       "  </tbody>\n",
       "</table>\n",
       "</div>"
      ],
      "text/plain": [
       "        ID_aluno      Prova\n",
       "count  45.000000  45.000000\n",
       "mean    8.000000   2.000000\n",
       "std     4.369314   0.825723\n",
       "min     1.000000   1.000000\n",
       "25%     4.000000   1.000000\n",
       "50%     8.000000   2.000000\n",
       "75%    12.000000   3.000000\n",
       "max    15.000000   3.000000"
      ]
     },
     "execution_count": 85,
     "metadata": {},
     "output_type": "execute_result"
    }
   ],
   "source": [
    "# describe\n",
    "mat.describe()"
   ]
  },
  {
   "cell_type": "code",
   "execution_count": 86,
   "id": "684f8726",
   "metadata": {},
   "outputs": [
    {
     "name": "stdout",
     "output_type": "stream",
     "text": [
      "<class 'pandas.core.frame.DataFrame'>\n",
      "RangeIndex: 45 entries, 0 to 44\n",
      "Data columns (total 3 columns):\n",
      " #   Column    Non-Null Count  Dtype \n",
      "---  ------    --------------  ----- \n",
      " 0   ID_aluno  45 non-null     int64 \n",
      " 1   Prova     45 non-null     int64 \n",
      " 2   Notas     45 non-null     object\n",
      "dtypes: int64(2), object(1)\n",
      "memory usage: 1.2+ KB\n"
     ]
    }
   ],
   "source": [
    "# info\n",
    "mat.info()"
   ]
  },
  {
   "cell_type": "code",
   "execution_count": 87,
   "id": "d116cf06",
   "metadata": {},
   "outputs": [
    {
     "data": {
      "text/plain": [
       "ID_aluno    15\n",
       "Prova        3\n",
       "Notas       10\n",
       "dtype: int64"
      ]
     },
     "execution_count": 87,
     "metadata": {},
     "output_type": "execute_result"
    }
   ],
   "source": [
    "# nunique\n",
    "mat.nunique()"
   ]
  },
  {
   "cell_type": "code",
   "execution_count": 88,
   "id": "0d0acade",
   "metadata": {},
   "outputs": [
    {
     "data": {
      "text/plain": [
       "A     12\n",
       "A-     7\n",
       "A+     7\n",
       "B-     5\n",
       "B      4\n",
       "C+     3\n",
       "B+     3\n",
       "C      2\n",
       "D      1\n",
       "C-     1\n",
       "Name: Notas, dtype: int64"
      ]
     },
     "execution_count": 88,
     "metadata": {},
     "output_type": "execute_result"
    }
   ],
   "source": [
    "# Visualizando a coluna de notas\n",
    "mat.Notas.value_counts()"
   ]
  },
  {
   "cell_type": "markdown",
   "id": "370d7939",
   "metadata": {},
   "source": [
    "**Como em matemática o professor usa conceitos, precisamos transformar para números para conseguir calcular uma média que seja possível de somar com a média de português**\n",
    "- Ao perguntar, a escola informou que A+ equivale a 10, A equivale a 9, e assim por diante, até C- equivaler a 2 e D a 1"
   ]
  },
  {
   "cell_type": "code",
   "execution_count": 89,
   "id": "4f6d79da",
   "metadata": {},
   "outputs": [],
   "source": [
    "# Criando a função para trocar as notas\n",
    "lista_notas = ['A+','A','A-','B+','B','B-','C+','C','C-','D']\n",
    "lista_valor = [10,9,8,7,6,5,4,3,2,1]\n",
    "\n",
    "def verifica_nota(nota):\n",
    "    return lista_valor[lista_notas.index(nota)]"
   ]
  },
  {
   "cell_type": "code",
   "execution_count": 90,
   "id": "a9b54de5",
   "metadata": {},
   "outputs": [],
   "source": [
    "# Aplicando essa função\n",
    "mat['NotaNr'] = mat.Notas.apply(verifica_nota)\n",
    "mat = mat.drop(['Notas'], axis = 1)"
   ]
  },
  {
   "cell_type": "code",
   "execution_count": 91,
   "id": "06401a6f",
   "metadata": {},
   "outputs": [
    {
     "data": {
      "text/html": [
       "<div>\n",
       "<style scoped>\n",
       "    .dataframe tbody tr th:only-of-type {\n",
       "        vertical-align: middle;\n",
       "    }\n",
       "\n",
       "    .dataframe tbody tr th {\n",
       "        vertical-align: top;\n",
       "    }\n",
       "\n",
       "    .dataframe thead th {\n",
       "        text-align: right;\n",
       "    }\n",
       "</style>\n",
       "<table border=\"1\" class=\"dataframe\">\n",
       "  <thead>\n",
       "    <tr style=\"text-align: right;\">\n",
       "      <th></th>\n",
       "      <th>ID_aluno</th>\n",
       "      <th>Prova</th>\n",
       "      <th>NotaNr</th>\n",
       "    </tr>\n",
       "  </thead>\n",
       "  <tbody>\n",
       "    <tr>\n",
       "      <th>0</th>\n",
       "      <td>1</td>\n",
       "      <td>1</td>\n",
       "      <td>5</td>\n",
       "    </tr>\n",
       "    <tr>\n",
       "      <th>1</th>\n",
       "      <td>2</td>\n",
       "      <td>1</td>\n",
       "      <td>9</td>\n",
       "    </tr>\n",
       "    <tr>\n",
       "      <th>2</th>\n",
       "      <td>3</td>\n",
       "      <td>1</td>\n",
       "      <td>6</td>\n",
       "    </tr>\n",
       "    <tr>\n",
       "      <th>3</th>\n",
       "      <td>4</td>\n",
       "      <td>1</td>\n",
       "      <td>9</td>\n",
       "    </tr>\n",
       "    <tr>\n",
       "      <th>4</th>\n",
       "      <td>5</td>\n",
       "      <td>1</td>\n",
       "      <td>4</td>\n",
       "    </tr>\n",
       "  </tbody>\n",
       "</table>\n",
       "</div>"
      ],
      "text/plain": [
       "   ID_aluno  Prova  NotaNr\n",
       "0         1      1       5\n",
       "1         2      1       9\n",
       "2         3      1       6\n",
       "3         4      1       9\n",
       "4         5      1       4"
      ]
     },
     "execution_count": 91,
     "metadata": {},
     "output_type": "execute_result"
    }
   ],
   "source": [
    "mat.head()"
   ]
  },
  {
   "cell_type": "markdown",
   "id": "0c429432",
   "metadata": {},
   "source": [
    "**E calculando a média**"
   ]
  },
  {
   "cell_type": "code",
   "execution_count": 92,
   "id": "9910b970",
   "metadata": {},
   "outputs": [],
   "source": [
    "# E calculando a média de matemática\n",
    "media_mat = mat.groupby('ID_aluno')['NotaNr'].mean()"
   ]
  },
  {
   "cell_type": "code",
   "execution_count": 93,
   "id": "29710a49",
   "metadata": {},
   "outputs": [
    {
     "data": {
      "text/plain": [
       "ID_aluno\n",
       "1     6.333333\n",
       "2     7.333333\n",
       "3     6.666667\n",
       "4     7.666667\n",
       "5     6.333333\n",
       "6     7.333333\n",
       "7     6.333333\n",
       "8     9.666667\n",
       "9     6.333333\n",
       "10    8.333333\n",
       "11    5.000000\n",
       "12    8.000000\n",
       "13    6.333333\n",
       "14    7.333333\n",
       "15    9.333333\n",
       "Name: NotaNr, dtype: float64"
      ]
     },
     "execution_count": 93,
     "metadata": {},
     "output_type": "execute_result"
    }
   ],
   "source": [
    "media_mat"
   ]
  },
  {
   "cell_type": "markdown",
   "id": "bf54b816",
   "metadata": {},
   "source": [
    "### Unindo as médias das duas disciplinas"
   ]
  },
  {
   "cell_type": "code",
   "execution_count": 95,
   "id": "4528badd",
   "metadata": {},
   "outputs": [],
   "source": [
    "# Unindo as bases\n",
    "media_final = pd.concat([media_mat, media_port], axis = 1).reset_index()"
   ]
  },
  {
   "cell_type": "code",
   "execution_count": 96,
   "id": "ee14e3fd",
   "metadata": {},
   "outputs": [
    {
     "data": {
      "text/html": [
       "<div>\n",
       "<style scoped>\n",
       "    .dataframe tbody tr th:only-of-type {\n",
       "        vertical-align: middle;\n",
       "    }\n",
       "\n",
       "    .dataframe tbody tr th {\n",
       "        vertical-align: top;\n",
       "    }\n",
       "\n",
       "    .dataframe thead th {\n",
       "        text-align: right;\n",
       "    }\n",
       "</style>\n",
       "<table border=\"1\" class=\"dataframe\">\n",
       "  <thead>\n",
       "    <tr style=\"text-align: right;\">\n",
       "      <th></th>\n",
       "      <th>ID_aluno</th>\n",
       "      <th>NotaNr</th>\n",
       "      <th>Notas</th>\n",
       "    </tr>\n",
       "  </thead>\n",
       "  <tbody>\n",
       "    <tr>\n",
       "      <th>0</th>\n",
       "      <td>1</td>\n",
       "      <td>6.333333</td>\n",
       "      <td>9.000000</td>\n",
       "    </tr>\n",
       "    <tr>\n",
       "      <th>1</th>\n",
       "      <td>2</td>\n",
       "      <td>7.333333</td>\n",
       "      <td>8.000000</td>\n",
       "    </tr>\n",
       "    <tr>\n",
       "      <th>2</th>\n",
       "      <td>3</td>\n",
       "      <td>6.666667</td>\n",
       "      <td>8.666667</td>\n",
       "    </tr>\n",
       "    <tr>\n",
       "      <th>3</th>\n",
       "      <td>4</td>\n",
       "      <td>7.666667</td>\n",
       "      <td>8.000000</td>\n",
       "    </tr>\n",
       "    <tr>\n",
       "      <th>4</th>\n",
       "      <td>5</td>\n",
       "      <td>6.333333</td>\n",
       "      <td>5.666667</td>\n",
       "    </tr>\n",
       "    <tr>\n",
       "      <th>5</th>\n",
       "      <td>6</td>\n",
       "      <td>7.333333</td>\n",
       "      <td>7.333333</td>\n",
       "    </tr>\n",
       "    <tr>\n",
       "      <th>6</th>\n",
       "      <td>7</td>\n",
       "      <td>6.333333</td>\n",
       "      <td>5.666667</td>\n",
       "    </tr>\n",
       "    <tr>\n",
       "      <th>7</th>\n",
       "      <td>8</td>\n",
       "      <td>9.666667</td>\n",
       "      <td>7.666667</td>\n",
       "    </tr>\n",
       "    <tr>\n",
       "      <th>8</th>\n",
       "      <td>9</td>\n",
       "      <td>6.333333</td>\n",
       "      <td>8.000000</td>\n",
       "    </tr>\n",
       "    <tr>\n",
       "      <th>9</th>\n",
       "      <td>10</td>\n",
       "      <td>8.333333</td>\n",
       "      <td>6.666667</td>\n",
       "    </tr>\n",
       "    <tr>\n",
       "      <th>10</th>\n",
       "      <td>11</td>\n",
       "      <td>5.000000</td>\n",
       "      <td>8.666667</td>\n",
       "    </tr>\n",
       "    <tr>\n",
       "      <th>11</th>\n",
       "      <td>12</td>\n",
       "      <td>8.000000</td>\n",
       "      <td>6.000000</td>\n",
       "    </tr>\n",
       "    <tr>\n",
       "      <th>12</th>\n",
       "      <td>13</td>\n",
       "      <td>6.333333</td>\n",
       "      <td>4.333333</td>\n",
       "    </tr>\n",
       "    <tr>\n",
       "      <th>13</th>\n",
       "      <td>14</td>\n",
       "      <td>7.333333</td>\n",
       "      <td>6.666667</td>\n",
       "    </tr>\n",
       "    <tr>\n",
       "      <th>14</th>\n",
       "      <td>15</td>\n",
       "      <td>9.333333</td>\n",
       "      <td>8.000000</td>\n",
       "    </tr>\n",
       "  </tbody>\n",
       "</table>\n",
       "</div>"
      ],
      "text/plain": [
       "    ID_aluno    NotaNr     Notas\n",
       "0          1  6.333333  9.000000\n",
       "1          2  7.333333  8.000000\n",
       "2          3  6.666667  8.666667\n",
       "3          4  7.666667  8.000000\n",
       "4          5  6.333333  5.666667\n",
       "5          6  7.333333  7.333333\n",
       "6          7  6.333333  5.666667\n",
       "7          8  9.666667  7.666667\n",
       "8          9  6.333333  8.000000\n",
       "9         10  8.333333  6.666667\n",
       "10        11  5.000000  8.666667\n",
       "11        12  8.000000  6.000000\n",
       "12        13  6.333333  4.333333\n",
       "13        14  7.333333  6.666667\n",
       "14        15  9.333333  8.000000"
      ]
     },
     "execution_count": 96,
     "metadata": {},
     "output_type": "execute_result"
    }
   ],
   "source": [
    "media_final"
   ]
  },
  {
   "cell_type": "code",
   "execution_count": 97,
   "id": "1e6b145a",
   "metadata": {},
   "outputs": [],
   "source": [
    "# Ajustando as colunas\n",
    "media_final.columns = ['ID_aluno', 'media_mat', 'media_port']"
   ]
  },
  {
   "cell_type": "code",
   "execution_count": 98,
   "id": "96cbcd42",
   "metadata": {},
   "outputs": [
    {
     "data": {
      "text/html": [
       "<div>\n",
       "<style scoped>\n",
       "    .dataframe tbody tr th:only-of-type {\n",
       "        vertical-align: middle;\n",
       "    }\n",
       "\n",
       "    .dataframe tbody tr th {\n",
       "        vertical-align: top;\n",
       "    }\n",
       "\n",
       "    .dataframe thead th {\n",
       "        text-align: right;\n",
       "    }\n",
       "</style>\n",
       "<table border=\"1\" class=\"dataframe\">\n",
       "  <thead>\n",
       "    <tr style=\"text-align: right;\">\n",
       "      <th></th>\n",
       "      <th>ID_aluno</th>\n",
       "      <th>media_mat</th>\n",
       "      <th>media_port</th>\n",
       "    </tr>\n",
       "  </thead>\n",
       "  <tbody>\n",
       "    <tr>\n",
       "      <th>0</th>\n",
       "      <td>1</td>\n",
       "      <td>6.333333</td>\n",
       "      <td>9.000000</td>\n",
       "    </tr>\n",
       "    <tr>\n",
       "      <th>1</th>\n",
       "      <td>2</td>\n",
       "      <td>7.333333</td>\n",
       "      <td>8.000000</td>\n",
       "    </tr>\n",
       "    <tr>\n",
       "      <th>2</th>\n",
       "      <td>3</td>\n",
       "      <td>6.666667</td>\n",
       "      <td>8.666667</td>\n",
       "    </tr>\n",
       "    <tr>\n",
       "      <th>3</th>\n",
       "      <td>4</td>\n",
       "      <td>7.666667</td>\n",
       "      <td>8.000000</td>\n",
       "    </tr>\n",
       "    <tr>\n",
       "      <th>4</th>\n",
       "      <td>5</td>\n",
       "      <td>6.333333</td>\n",
       "      <td>5.666667</td>\n",
       "    </tr>\n",
       "  </tbody>\n",
       "</table>\n",
       "</div>"
      ],
      "text/plain": [
       "   ID_aluno  media_mat  media_port\n",
       "0         1   6.333333    9.000000\n",
       "1         2   7.333333    8.000000\n",
       "2         3   6.666667    8.666667\n",
       "3         4   7.666667    8.000000\n",
       "4         5   6.333333    5.666667"
      ]
     },
     "execution_count": 98,
     "metadata": {},
     "output_type": "execute_result"
    }
   ],
   "source": [
    "media_final.head()"
   ]
  },
  {
   "cell_type": "code",
   "execution_count": 101,
   "id": "568a773c",
   "metadata": {},
   "outputs": [],
   "source": [
    "# Calculando a média final\n",
    "media_final['Final'] = (media_final.media_mat + media_final.media_port) / 2"
   ]
  },
  {
   "cell_type": "code",
   "execution_count": 102,
   "id": "85cb6138",
   "metadata": {},
   "outputs": [
    {
     "data": {
      "text/html": [
       "<div>\n",
       "<style scoped>\n",
       "    .dataframe tbody tr th:only-of-type {\n",
       "        vertical-align: middle;\n",
       "    }\n",
       "\n",
       "    .dataframe tbody tr th {\n",
       "        vertical-align: top;\n",
       "    }\n",
       "\n",
       "    .dataframe thead th {\n",
       "        text-align: right;\n",
       "    }\n",
       "</style>\n",
       "<table border=\"1\" class=\"dataframe\">\n",
       "  <thead>\n",
       "    <tr style=\"text-align: right;\">\n",
       "      <th></th>\n",
       "      <th>ID_aluno</th>\n",
       "      <th>media_mat</th>\n",
       "      <th>media_port</th>\n",
       "      <th>Final</th>\n",
       "    </tr>\n",
       "  </thead>\n",
       "  <tbody>\n",
       "    <tr>\n",
       "      <th>0</th>\n",
       "      <td>1</td>\n",
       "      <td>6.333333</td>\n",
       "      <td>9.000000</td>\n",
       "      <td>7.666667</td>\n",
       "    </tr>\n",
       "    <tr>\n",
       "      <th>1</th>\n",
       "      <td>2</td>\n",
       "      <td>7.333333</td>\n",
       "      <td>8.000000</td>\n",
       "      <td>7.666667</td>\n",
       "    </tr>\n",
       "    <tr>\n",
       "      <th>2</th>\n",
       "      <td>3</td>\n",
       "      <td>6.666667</td>\n",
       "      <td>8.666667</td>\n",
       "      <td>7.666667</td>\n",
       "    </tr>\n",
       "    <tr>\n",
       "      <th>3</th>\n",
       "      <td>4</td>\n",
       "      <td>7.666667</td>\n",
       "      <td>8.000000</td>\n",
       "      <td>7.833333</td>\n",
       "    </tr>\n",
       "    <tr>\n",
       "      <th>4</th>\n",
       "      <td>5</td>\n",
       "      <td>6.333333</td>\n",
       "      <td>5.666667</td>\n",
       "      <td>6.000000</td>\n",
       "    </tr>\n",
       "    <tr>\n",
       "      <th>5</th>\n",
       "      <td>6</td>\n",
       "      <td>7.333333</td>\n",
       "      <td>7.333333</td>\n",
       "      <td>7.333333</td>\n",
       "    </tr>\n",
       "    <tr>\n",
       "      <th>6</th>\n",
       "      <td>7</td>\n",
       "      <td>6.333333</td>\n",
       "      <td>5.666667</td>\n",
       "      <td>6.000000</td>\n",
       "    </tr>\n",
       "    <tr>\n",
       "      <th>7</th>\n",
       "      <td>8</td>\n",
       "      <td>9.666667</td>\n",
       "      <td>7.666667</td>\n",
       "      <td>8.666667</td>\n",
       "    </tr>\n",
       "    <tr>\n",
       "      <th>8</th>\n",
       "      <td>9</td>\n",
       "      <td>6.333333</td>\n",
       "      <td>8.000000</td>\n",
       "      <td>7.166667</td>\n",
       "    </tr>\n",
       "    <tr>\n",
       "      <th>9</th>\n",
       "      <td>10</td>\n",
       "      <td>8.333333</td>\n",
       "      <td>6.666667</td>\n",
       "      <td>7.500000</td>\n",
       "    </tr>\n",
       "    <tr>\n",
       "      <th>10</th>\n",
       "      <td>11</td>\n",
       "      <td>5.000000</td>\n",
       "      <td>8.666667</td>\n",
       "      <td>6.833333</td>\n",
       "    </tr>\n",
       "    <tr>\n",
       "      <th>11</th>\n",
       "      <td>12</td>\n",
       "      <td>8.000000</td>\n",
       "      <td>6.000000</td>\n",
       "      <td>7.000000</td>\n",
       "    </tr>\n",
       "    <tr>\n",
       "      <th>12</th>\n",
       "      <td>13</td>\n",
       "      <td>6.333333</td>\n",
       "      <td>4.333333</td>\n",
       "      <td>5.333333</td>\n",
       "    </tr>\n",
       "    <tr>\n",
       "      <th>13</th>\n",
       "      <td>14</td>\n",
       "      <td>7.333333</td>\n",
       "      <td>6.666667</td>\n",
       "      <td>7.000000</td>\n",
       "    </tr>\n",
       "    <tr>\n",
       "      <th>14</th>\n",
       "      <td>15</td>\n",
       "      <td>9.333333</td>\n",
       "      <td>8.000000</td>\n",
       "      <td>8.666667</td>\n",
       "    </tr>\n",
       "  </tbody>\n",
       "</table>\n",
       "</div>"
      ],
      "text/plain": [
       "    ID_aluno  media_mat  media_port     Final\n",
       "0          1   6.333333    9.000000  7.666667\n",
       "1          2   7.333333    8.000000  7.666667\n",
       "2          3   6.666667    8.666667  7.666667\n",
       "3          4   7.666667    8.000000  7.833333\n",
       "4          5   6.333333    5.666667  6.000000\n",
       "5          6   7.333333    7.333333  7.333333\n",
       "6          7   6.333333    5.666667  6.000000\n",
       "7          8   9.666667    7.666667  8.666667\n",
       "8          9   6.333333    8.000000  7.166667\n",
       "9         10   8.333333    6.666667  7.500000\n",
       "10        11   5.000000    8.666667  6.833333\n",
       "11        12   8.000000    6.000000  7.000000\n",
       "12        13   6.333333    4.333333  5.333333\n",
       "13        14   7.333333    6.666667  7.000000\n",
       "14        15   9.333333    8.000000  8.666667"
      ]
     },
     "execution_count": 102,
     "metadata": {},
     "output_type": "execute_result"
    }
   ],
   "source": [
    "# Verificando a base\n",
    "media_final"
   ]
  }
 ],
 "metadata": {
  "kernelspec": {
   "display_name": "Python 3 (ipykernel)",
   "language": "python",
   "name": "python3"
  },
  "language_info": {
   "codemirror_mode": {
    "name": "ipython",
    "version": 3
   },
   "file_extension": ".py",
   "mimetype": "text/x-python",
   "name": "python",
   "nbconvert_exporter": "python",
   "pygments_lexer": "ipython3",
   "version": "3.9.13"
  }
 },
 "nbformat": 4,
 "nbformat_minor": 5
}
